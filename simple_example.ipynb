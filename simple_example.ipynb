{
 "cells": [
  {
   "cell_type": "markdown",
   "metadata": {},
   "source": [
    "### Linear regression example\n",
    "A linear regression example, representing a relatively minimal example for how softcvi can be used."
   ]
  },
  {
   "cell_type": "markdown",
   "metadata": {},
   "source": [
    "### Imports"
   ]
  },
  {
   "cell_type": "code",
   "execution_count": 1,
   "metadata": {},
   "outputs": [
    {
     "name": "stderr",
     "output_type": "stream",
     "text": [
      "/home/dw16200/miniconda3/envs/pyrox_env/lib/python3.13/site-packages/tqdm/auto.py:21: TqdmWarning: IProgress not found. Please update jupyter and ipywidgets. See https://ipywidgets.readthedocs.io/en/stable/user_install.html\n",
      "  from .autonotebook import tqdm as notebook_tqdm\n"
     ]
    }
   ],
   "source": [
    "from typing import ClassVar\n",
    "\n",
    "import jax.numpy as jnp\n",
    "import jax.random as jr\n",
    "import matplotlib.pyplot as plt\n",
    "from flowjax.distributions import Normal\n",
    "from flowjax.experimental.numpyro import sample\n",
    "from flowjax.train import fit_to_key_based_loss\n",
    "from jaxtyping import Array, PRNGKeyArray\n",
    "\n",
    "from pyrox.losses import EvidenceLowerBoundLoss\n",
    "from pyrox.program import AbstractProgram, SetKwargs\n"
   ]
  },
  {
   "cell_type": "markdown",
   "metadata": {},
   "source": [
    "### Define the model"
   ]
  },
  {
   "cell_type": "code",
   "execution_count": 2,
   "metadata": {},
   "outputs": [],
   "source": [
    "\n",
    "class RegressionModel(AbstractProgram):\n",
    "    sigma: float | int\n",
    "    n_covariates: ClassVar[int] = 100\n",
    "    n_obs: ClassVar[int] = 200\n",
    "\n",
    "    def __init__(self):\n",
    "        self.sigma = 1\n",
    "\n",
    "    def __call__(\n",
    "        self,\n",
    "        *,\n",
    "        obs: Array | None = None,\n",
    "        x: Array,\n",
    "    ):\n",
    "        beta = sample(\"beta\", Normal(jnp.zeros(self.n_covariates)))\n",
    "        bias = sample(\"bias\", Normal())\n",
    "        mu = x @ beta + bias\n",
    "        sample(\"y\", Normal(mu, self.sigma), obs=obs)\n",
    "\n",
    "\n",
    "class RegressionGuide(AbstractProgram):\n",
    "    beta: Normal\n",
    "    bias: Normal\n",
    "\n",
    "    def __init__(self):\n",
    "        self.beta = Normal(jnp.zeros(RegressionModel.n_covariates))\n",
    "        self.bias = Normal()\n",
    "\n",
    "    def __call__(self):\n",
    "        sample(\"beta\", self.beta)\n",
    "        sample(\"bias\", self.bias)\n",
    "\n",
    "model = RegressionModel()\n",
    "guide = RegressionGuide()"
   ]
  },
  {
   "cell_type": "markdown",
   "metadata": {},
   "source": [
    "### Generate toy data"
   ]
  },
  {
   "cell_type": "code",
   "execution_count": 3,
   "metadata": {},
   "outputs": [],
   "source": [
    "key, subkey = jr.split(jrs.key(0))\n",
    "x = jr.normal(key, (model.n_obs, model.n_covariates))  # Generate toy data\n",
    "latents = model.sample(subkey, x=x)\n",
    "obs = latents.pop(\"y\")"
   ]
  },
  {
   "cell_type": "markdown",
   "metadata": {},
   "source": [
    "### Fit posterior"
   ]
  },
  {
   "cell_type": "code",
   "execution_count": 4,
   "metadata": {},
   "outputs": [
    {
     "name": "stderr",
     "output_type": "stream",
     "text": [
      "100%|██████████| 5000/5000 [00:20<00:00, 248.76it/s, loss=564]   \n"
     ]
    }
   ],
   "source": [
    "loss = EvidenceLowerBoundLoss(n_particles=1)\n",
    "key, subkey=jr.split(key)\n",
    "\n",
    "# Set the kwarg values before passing to loss\n",
    "model = SetKwargs(model, obs=obs, x=x)\n",
    "(model, guide), losses = fit_to_key_based_loss(\n",
    "    key=subkey,\n",
    "    tree=(model, guide),\n",
    "    loss_fn=loss,\n",
    "    steps=5000,\n",
    "    learning_rate=1e-2,\n",
    ")\n",
    "model = model.program # unwrap SetKwargs"
   ]
  },
  {
   "cell_type": "code",
   "execution_count": 5,
   "metadata": {},
   "outputs": [
    {
     "data": {
      "text/plain": [
       "Text(0, 0.5, '$\\\\beta$ posterior mean')"
      ]
     },
     "execution_count": 5,
     "metadata": {},
     "output_type": "execute_result"
    },
    {
     "data": {
      "image/png": "[encoded data removed]",
      "text/plain": [
       "<Figure size 640x480 with 1 Axes>"
      ]
     },
     "metadata": {},
     "output_type": "display_data"
    }
   ],
   "source": [
    "# Plot true coefficients against posterior means\n",
    "plt.scatter(latents[\"beta\"], guide.beta.loc)\n",
    "plt.xlabel(r\"True $\\beta$\")\n",
    "plt.ylabel(r\"$\\beta$ posterior mean\")\n"
   ]
  },
  {
   "cell_type": "code",
   "execution_count": null,
   "metadata": {},
   "outputs": [],
   "source": []
  }
 ],
 "metadata": {
  "kernelspec": {
   "display_name": "pyrox_env",
   "language": "python",
   "name": "python3"
  },
  "language_info": {
   "codemirror_mode": {
    "name": "ipython",
    "version": 3
   },
   "file_extension": ".py",
   "mimetype": "text/x-python",
   "name": "python",
   "nbconvert_exporter": "python",
   "pygments_lexer": "ipython3",
   "version": "3.13.0"
  }
 },
 "nbformat": 4,
 "nbformat_minor": 2
}
